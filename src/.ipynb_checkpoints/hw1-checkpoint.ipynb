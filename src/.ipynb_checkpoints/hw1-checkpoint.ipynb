{
 "cells": [
  {
   "cell_type": "code",
   "execution_count": 1,
   "id": "64dcd840-b331-47a8-a834-eb5c79d9b4e8",
   "metadata": {
    "tags": []
   },
   "outputs": [],
   "source": [
    "import numpy as np"
   ]
  },
  {
   "cell_type": "code",
   "execution_count": 2,
   "id": "ad038c78-2c4b-4f15-9ad7-1aa07919eb29",
   "metadata": {},
   "outputs": [],
   "source": [
    "def compute_linear_fit(n=1000):\n",
    "    x = np.random.uniform(0, 1, n)\n",
    "    e = np.random.normal(0, np.sqrt(0.25), n)\n",
    "    y = x + e\n",
    "    a = np.sum(x * y) / np.sum(x**2)\n",
    "    return x, y, a"
   ]
  },
  {
   "cell_type": "code",
   "execution_count": 3,
   "id": "af6d7e63-7fe0-47fe-a75e-7b81038abff0",
   "metadata": {
    "tags": []
   },
   "outputs": [],
   "source": [
    "def compute_polynomial_fit(n=1000):\n",
    "    x = np.random.uniform(0, 1, n)\n",
    "    xi = np.random.normal(0, np.sqrt(0.01), n)\n",
    "    y = 30*(x - 0.25)**2*(x - 0.75)**2 + xi\n",
    "    X = np.stack([x**i for i in range(5)], axis=1)\n",
    "    a = np.linalg.inv(X.T @ X) @ X.T @ y\n",
    "    return x, y, a\n"
   ]
  },
  {
   "cell_type": "code",
   "execution_count": null,
   "id": "67dbc429-ea86-4e56-83e7-3736bbfe7bf6",
   "metadata": {},
   "outputs": [],
   "source": []
  },
  {
   "cell_type": "code",
   "execution_count": null,
   "id": "27789144-396f-4cac-82b6-7c98898b0ba4",
   "metadata": {},
   "outputs": [],
   "source": []
  },
  {
   "cell_type": "code",
   "execution_count": null,
   "id": "747b9936-a575-4388-b230-3217ae8c1f22",
   "metadata": {},
   "outputs": [],
   "source": []
  },
  {
   "cell_type": "code",
   "execution_count": null,
   "id": "c949e92c-a513-43aa-a2ac-c987cc0132fc",
   "metadata": {},
   "outputs": [],
   "source": []
  }
 ],
 "metadata": {
  "kernelspec": {
   "display_name": "Python 3 (ipykernel)",
   "language": "python",
   "name": "python3"
  },
  "language_info": {
   "codemirror_mode": {
    "name": "ipython",
    "version": 3
   },
   "file_extension": ".py",
   "mimetype": "text/x-python",
   "name": "python",
   "nbconvert_exporter": "python",
   "pygments_lexer": "ipython3",
   "version": "3.10.9"
  }
 },
 "nbformat": 4,
 "nbformat_minor": 5
}
