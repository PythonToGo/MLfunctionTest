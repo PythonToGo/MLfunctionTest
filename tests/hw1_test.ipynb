{
 "cells": [
  {
   "cell_type": "code",
   "execution_count": null,
   "id": "13a0794f-0e8e-4609-a13c-883f2fc301ce",
   "metadata": {},
   "outputs": [],
   "source": [
    "import pytest\n",
    "from hw1 import compute_linear_fit, compute_polynomial_fit"
   ]
  },
  {
   "cell_type": "code",
   "execution_count": null,
   "id": "4be8342b-f45e-4bc7-843c-0e1918a9867f",
   "metadata": {},
   "outputs": [],
   "source": [
    "\n",
    "def test_linear_fit():\n",
    "    x, y, a = compute_linear_fit()\n",
    "    assert a >= 0  # Add more specific tests based on your domain knowledge\n"
   ]
  },
  {
   "cell_type": "code",
   "execution_count": null,
   "id": "258e4b74-e9bb-414e-b079-76f9e4d3f0e1",
   "metadata": {},
   "outputs": [],
   "source": [
    "\n",
    "def test_polynomial_fit():\n",
    "    x, y, a = compute_polynomial_fit()\n",
    "    assert len(a) == 5  # Since we expect 5 coefficients\n",
    "    # Add more specific tests based on your domain knowledge"
   ]
  },
  {
   "cell_type": "code",
   "execution_count": null,
   "id": "9e9d8eab-4d1e-4c14-8fa4-619de526b5f2",
   "metadata": {},
   "outputs": [],
   "source": []
  }
 ],
 "metadata": {
  "kernelspec": {
   "display_name": "Python 3 (ipykernel)",
   "language": "python",
   "name": "python3"
  },
  "language_info": {
   "codemirror_mode": {
    "name": "ipython",
    "version": 3
   },
   "file_extension": ".py",
   "mimetype": "text/x-python",
   "name": "python",
   "nbconvert_exporter": "python",
   "pygments_lexer": "ipython3",
   "version": "3.10.9"
  }
 },
 "nbformat": 4,
 "nbformat_minor": 5
}
